{
 "cells": [
  {
   "cell_type": "markdown",
   "metadata": {
    "_uuid": "f1aff4f1289eea4a91d2061871af57f0018733ce"
   },
   "source": [
    "## Overview"
   ]
  },
  {
   "cell_type": "markdown",
   "metadata": {
    "_uuid": "1d7c65b1b28b98b8d38dd994fb9dc9db91fc1cea"
   },
   "source": [
    "It is a follow-up notebook to \"Fine-tuning ResNet34 on ship detection\" (https://www.kaggle.com/iafoss/fine-tuning-resnet34-on-ship-detection/notebook) and \"Unet34 (dice 0.87+)\" (https://www.kaggle.com/iafoss/unet34-dice-0-87/notebook) that shows how to evaluate the solution and submit predictions. Please check these notebooks for additional details."
   ]
  },
  {
   "cell_type": "code",
   "execution_count": null,
   "metadata": {
    "_cell_guid": "79c7e3d0-c299-4dcb-8224-4455121ee9b0",
    "_uuid": "d629ff2d2480ee46fbb7e2d37f6b5fab8052498a"
   },
   "outputs": [],
   "source": [
    "from fastai.conv_learner import *\n",
    "from fastai.dataset import *\n",
    "\n",
    "import pandas as pd\n",
    "import numpy as np\n",
    "import os\n",
    "from PIL import Image\n",
    "from sklearn.model_selection import train_test_split\n",
    "from tqdm import tnrange, tqdm_notebook\n",
    "from scipy import ndimage"
   ]
  },
  {
   "cell_type": "code",
   "execution_count": null,
   "metadata": {
    "_uuid": "76374df0da5adc6835cf988351c39ce3ce552641"
   },
   "outputs": [],
   "source": [
    "PATH = './'\n",
    "TRAIN = '../input/airbus-ship-detection/train_v2/'\n",
    "TEST = '../input/airbus-ship-detection/test_v2/'\n",
    "SEGMENTATION = '../input/airbus-ship-detection/train_ship_segmentations_v2.csv'\n",
    "PRETRAINED_DETECTION_PATH = '../input/fine-tuning-resnet34-on-ship-detection/models/'\n",
    "PRETRAINED_SEGMENTATION_PATH = '../input/unet34-dice-0-87/models/'\n",
    "DETECTION_TEST_PRED = '../input/fine-tuning-resnet34-on-ship-detection-new-data/ship_detection.csv'"
   ]
  },
  {
   "cell_type": "code",
   "execution_count": null,
   "metadata": {
    "_uuid": "a1b6a04600ea9e44401515d292067af1b5ab9cf8"
   },
   "outputs": [],
   "source": [
    "nw = 2   #number of workers for data loader\n",
    "arch = resnet34 #specify target architecture"
   ]
  },
  {
   "cell_type": "markdown",
   "metadata": {
    "_uuid": "e7491c8ef4a4be7d4d437d950d814497de7b4268"
   },
   "source": [
    "### Data"
   ]
  },
  {
   "cell_type": "code",
   "execution_count": null,
   "metadata": {
    "_uuid": "1d2bbf7abe0b64932d0fd9d7497cdd7d3853881a"
   },
   "outputs": [],
   "source": [
    "train_names = [f for f in os.listdir(TRAIN)]\n",
    "test_names = [f for f in os.listdir(TEST)]\n",
    "#5% of data in the validation set is sufficient for model evaluation\n",
    "tr_n, val_n = train_test_split(train_names, test_size=0.05, random_state=42)\n",
    "segmentation_df = pd.read_csv(os.path.join(PATH, SEGMENTATION)).set_index('ImageId')"
   ]
  },
  {
   "cell_type": "markdown",
   "metadata": {
    "_uuid": "0e06d20508ecbd80b929dde5b3cd1f0ea6e10167"
   },
   "source": [
    "As explained in https://www.kaggle.com/iafoss/unet34-dice-0-87/notebook, I drop all images without ships. The model responsible for ship detection will take care of them."
   ]
  },
  {
   "cell_type": "code",
   "execution_count": null,
   "metadata": {
    "_uuid": "4f7c4937cf0cb83bc419977b198bcb71739e39db"
   },
   "outputs": [],
   "source": [
    "def cut_empty(names):\n",
    "    return [name for name in names \n",
    "            if(type(segmentation_df.loc[name]['EncodedPixels']) != float)]\n",
    "\n",
    "tr_n_cut = cut_empty(tr_n)\n",
    "val_n_cut = cut_empty(val_n)"
   ]
  },
  {
   "cell_type": "code",
   "execution_count": null,
   "metadata": {
    "_uuid": "98426b544b2ec283847b05900cdef8fef96cca26"
   },
   "outputs": [],
   "source": [
    "def get_mask(img_id, df):\n",
    "    shape = (768,768)\n",
    "    img = np.zeros(shape[0]*shape[1], dtype=np.uint8)\n",
    "    masks = df.loc[img_id]['EncodedPixels']\n",
    "    if(type(masks) == float): return img.reshape(shape)\n",
    "    if(type(masks) == str): masks = [masks]\n",
    "    for mask in masks:\n",
    "        s = mask.split()\n",
    "        for i in range(len(s)//2):\n",
    "            start = int(s[2*i]) - 1\n",
    "            length = int(s[2*i+1])\n",
    "            img[start:start+length] = 1\n",
    "    return img.reshape(shape).T"
   ]
  },
  {
   "cell_type": "code",
   "execution_count": null,
   "metadata": {
    "_uuid": "4412b5292790c30d77f8320115765541e670cab5"
   },
   "outputs": [],
   "source": [
    "class pdFilesDataset(FilesDataset):\n",
    "    def __init__(self, fnames, path, transform):\n",
    "        self.segmentation_df = pd.read_csv(SEGMENTATION).set_index('ImageId')\n",
    "        super().__init__(fnames, transform, path)\n",
    "    \n",
    "    def get_x(self, i):\n",
    "        img = open_image(os.path.join(self.path, self.fnames[i]))\n",
    "        if self.sz == 768: return img \n",
    "        else: return cv2.resize(img, (self.sz, self.sz))\n",
    "    \n",
    "    def get_y(self, i):\n",
    "        mask = np.zeros((768,768), dtype=np.uint8) if (self.path == TEST) \\\n",
    "            else get_mask(self.fnames[i], self.segmentation_df)\n",
    "        img = Image.fromarray(mask).resize((self.sz, self.sz)).convert('RGB')\n",
    "        return np.array(img).astype(np.float32)\n",
    "    \n",
    "    def get_c(self): return 0"
   ]
  },
  {
   "cell_type": "code",
   "execution_count": null,
   "metadata": {
    "_uuid": "c0b680f127a97227a96d0b890fb3f26c474ff0f5"
   },
   "outputs": [],
   "source": [
    "def get_data(sz,bs):\n",
    "    tfms = tfms_from_model(arch, sz, crop_type=CropType.NO, tfm_y=TfmType.CLASS)\n",
    "    tr_names = tr_n if (len(tr_n_cut)%bs == 0) else tr_n[:-(len(tr_n_cut)%bs)] #cut incomplete batch\n",
    "    ds = ImageData.get_ds(pdFilesDataset, (tr_names,TRAIN), \n",
    "                (val_n_cut,TRAIN), tfms, test=(test_names,TEST))\n",
    "    md = ImageData(PATH, ds, bs, num_workers=nw, classes=None)\n",
    "    return md"
   ]
  },
  {
   "cell_type": "markdown",
   "metadata": {
    "_uuid": "d2c36d31bbf1a3afc3996222d450608f66bbb3d6"
   },
   "source": [
    "### Model"
   ]
  },
  {
   "cell_type": "code",
   "execution_count": null,
   "metadata": {
    "_uuid": "785eb13d12159b2a90835e248093f2e4bd3d661a"
   },
   "outputs": [],
   "source": [
    "cut,lr_cut = model_meta[arch]"
   ]
  },
  {
   "cell_type": "code",
   "execution_count": null,
   "metadata": {
    "_uuid": "7e9c3d8cdad5eaccbc2543a6f4c7c7b498c03888"
   },
   "outputs": [],
   "source": [
    "def get_base(pre=True):              #load ResNet34 model\n",
    "    layers = cut_model(arch(pre), cut)\n",
    "    return nn.Sequential(*layers)"
   ]
  },
  {
   "cell_type": "code",
   "execution_count": null,
   "metadata": {
    "_uuid": "8147f86421b467087ec60dbddd0f1b88e88844cd"
   },
   "outputs": [],
   "source": [
    "class UnetBlock(nn.Module):\n",
    "    def __init__(self, up_in, x_in, n_out):\n",
    "        super().__init__()\n",
    "        up_out = x_out = n_out//2\n",
    "        self.x_conv  = nn.Conv2d(x_in,  x_out,  1)\n",
    "        self.tr_conv = nn.ConvTranspose2d(up_in, up_out, 2, stride=2)\n",
    "        self.bn = nn.BatchNorm2d(n_out)\n",
    "        \n",
    "    def forward(self, up_p, x_p):\n",
    "        up_p = self.tr_conv(up_p)\n",
    "        x_p = self.x_conv(x_p)\n",
    "        cat_p = torch.cat([up_p,x_p], dim=1)\n",
    "        return self.bn(F.relu(cat_p))\n",
    "\n",
    "class SaveFeatures():\n",
    "    features=None\n",
    "    def __init__(self, m): self.hook = m.register_forward_hook(self.hook_fn)\n",
    "    def hook_fn(self, module, input, output): self.features = output\n",
    "    def remove(self): self.hook.remove()\n",
    "    \n",
    "class Unet34(nn.Module):\n",
    "    def __init__(self, rn):\n",
    "        super().__init__()\n",
    "        self.rn = rn\n",
    "        self.sfs = [SaveFeatures(rn[i]) for i in [2,4,5,6]]\n",
    "        self.up1 = UnetBlock(512,256,256)\n",
    "        self.up2 = UnetBlock(256,128,256)\n",
    "        self.up3 = UnetBlock(256,64,256)\n",
    "        self.up4 = UnetBlock(256,64,256)\n",
    "        self.up5 = nn.ConvTranspose2d(256, 1, 2, stride=2)\n",
    "        \n",
    "    def forward(self,x):\n",
    "        x = F.relu(self.rn(x))\n",
    "        x = self.up1(x, self.sfs[3].features)\n",
    "        x = self.up2(x, self.sfs[2].features)\n",
    "        x = self.up3(x, self.sfs[1].features)\n",
    "        x = self.up4(x, self.sfs[0].features)\n",
    "        x = self.up5(x)\n",
    "        return x[:,0]\n",
    "    \n",
    "    def close(self):\n",
    "        for sf in self.sfs: sf.remove()\n",
    "            \n",
    "class UnetModel():\n",
    "    def __init__(self,model,name='Unet'):\n",
    "        self.model,self.name = model,name\n",
    "\n",
    "    def get_layer_groups(self, precompute):\n",
    "        lgs = list(split_by_idxs(children(self.model.rn), [lr_cut]))\n",
    "        return lgs + [children(self.model)[1:]]"
   ]
  },
  {
   "cell_type": "markdown",
   "metadata": {
    "_uuid": "8de38bae09beab2d2acd7c824373cbd4b111309b"
   },
   "source": [
    "### Score evaluation"
   ]
  },
  {
   "cell_type": "code",
   "execution_count": null,
   "metadata": {
    "_uuid": "8778da2e4fd46ccca6a551cc84a022f4c3c18140"
   },
   "outputs": [],
   "source": [
    "def IoU(pred, targs):\n",
    "    pred = (pred > 0.5).astype(float)\n",
    "    intersection = (pred*targs).sum()\n",
    "    return intersection / ((pred+targs).sum() - intersection + 1.0)"
   ]
  },
  {
   "cell_type": "code",
   "execution_count": null,
   "metadata": {
    "_uuid": "deee9be6cad6c5dde352e1022837e50550fa5a3c"
   },
   "outputs": [],
   "source": [
    "def get_score(pred, true):\n",
    "    n_th = 10\n",
    "    b = 4\n",
    "    thresholds = [0.5 + 0.05*i for i in range(n_th)]\n",
    "    n_masks = len(true)\n",
    "    n_pred = len(pred)\n",
    "    ious = []\n",
    "    score = 0\n",
    "    for mask in true:\n",
    "        buf = []\n",
    "        for p in pred: buf.append(IoU(p,mask))\n",
    "        ious.append(buf)\n",
    "    for t in thresholds:   \n",
    "        tp, fp, fn = 0, 0, 0\n",
    "        for i in range(n_masks):\n",
    "            match = False\n",
    "            for j in range(n_pred):\n",
    "                if ious[i][j] > t: match = True\n",
    "            if not match: fn += 1\n",
    "        \n",
    "        for j in range(n_pred):\n",
    "            match = False\n",
    "            for i in range(n_masks):\n",
    "                if ious[i][j] > t: match = True\n",
    "            if match: tp += 1\n",
    "            else: fp += 1\n",
    "        score += ((b+1)*tp)/((b+1)*tp + b*fn + fp)       \n",
    "    return score/n_th"
   ]
  },
  {
   "cell_type": "markdown",
   "metadata": {
    "_uuid": "7e7ea344cecf23394740a013142b26320092b5c6"
   },
   "source": [
    "In this competition we should submit and individual mask for each identified ship. The simplest way to do it is splitting the total mask into individual ones based on the connectivity of detected objects."
   ]
  },
  {
   "cell_type": "code",
   "execution_count": null,
   "metadata": {
    "_uuid": "23628b68164333efe7bb09b9690bc0ccd4138984"
   },
   "outputs": [],
   "source": [
    "def split_mask(mask):\n",
    "    threshold = 0.5\n",
    "    threshold_obj = 30 #ignor predictions composed of \"threshold_obj\" pixels or less\n",
    "    labled,n_objs = ndimage.label(mask > threshold)\n",
    "    result = []\n",
    "    for i in range(n_objs):\n",
    "        obj = (labled == i + 1).astype(int)\n",
    "        if(obj.sum() > threshold_obj): result.append(obj)\n",
    "    return result"
   ]
  },
  {
   "cell_type": "code",
   "execution_count": null,
   "metadata": {
    "_uuid": "c0b03496a63d7115b005aad9b96ee40420662c61"
   },
   "outputs": [],
   "source": [
    "def get_mask_ind(img_id, df, shape = (768,768)): #return mask for each ship\n",
    "    masks = df.loc[img_id]['EncodedPixels']\n",
    "    if(type(masks) == float): return []\n",
    "    if(type(masks) == str): masks = [masks]\n",
    "    result = []\n",
    "    for mask in masks:\n",
    "        img = np.zeros(shape[0]*shape[1], dtype=np.uint8)\n",
    "        s = mask.split()\n",
    "        for i in range(len(s)//2):\n",
    "            start = int(s[2*i]) - 1\n",
    "            length = int(s[2*i+1])\n",
    "            img[start:start+length] = 1\n",
    "        result.append(img.reshape(shape).T)\n",
    "    return result"
   ]
  },
  {
   "cell_type": "code",
   "execution_count": null,
   "metadata": {
    "_uuid": "d1c265c22c8c56ae3b4b00dbd7fc6f4761d66158"
   },
   "outputs": [],
   "source": [
    "class Score_eval():\n",
    "    def __init__(self):\n",
    "        self.segmentation_df = pd.read_csv(SEGMENTATION).set_index('ImageId')\n",
    "        self.score, self.count = 0.0, 0\n",
    "        \n",
    "    def put(self,pred,name):\n",
    "        true = get_mask_ind(name, self.segmentation_df)\n",
    "        self.score += get_score(pred,true)\n",
    "        self.count += 1\n",
    "        \n",
    "    def evaluate(self):\n",
    "        return self.score/self.count"
   ]
  },
  {
   "cell_type": "markdown",
   "metadata": {
    "_uuid": "3601c841b2b55b22286f7f6ac8304d38a1e1c11b"
   },
   "source": [
    "### TTA\n",
    "Define transformations for data augmentation and TTA function (default fast.ai functions do not transform a predicted mask back):"
   ]
  },
  {
   "cell_type": "code",
   "execution_count": null,
   "metadata": {
    "_uuid": "46320215f21f5682ebece222bbed6ce28ee4784e"
   },
   "outputs": [],
   "source": [
    "def aug_unit(x,fwd=True,mask=False):\n",
    "    return x\n",
    "\n",
    "def aug_flipV(x,fwd=True,mask=False):\n",
    "    return x.flip(2) if mask else x.flip(3)\n",
    "\n",
    "def aug_flipH(x,fwd=True,mask=False):\n",
    "    return x.flip(1) if mask else x.flip(2)\n",
    "\n",
    "def aug_T(x,fwd=True,mask=False):\n",
    "    return torch.transpose(x,1,2) if mask else torch.transpose(x,2,3)\n",
    "\n",
    "def aug_rot_2(x,fwd=True,mask=False): #rotate pi/2\n",
    "    return aug_flipV(aug_flipH(x,fwd,mask),fwd,mask)\n",
    "\n",
    "def aug_rot_4cr(x,fwd=True,mask=False): #rotate pi/4 counterclockwise\n",
    "    return aug_flipV(aug_T(x,fwd,mask),fwd,mask) if fwd else \\\n",
    "        aug_T(aug_flipV(x,fwd,mask),fwd,mask)\n",
    "\n",
    "def aug_rot_4cw(x,fwd=True,mask=False): #rotate pi/4 clockwise\n",
    "    return aug_flipH(aug_T(x,fwd,mask),fwd,mask) if fwd else \\\n",
    "        aug_T(aug_flipH(x,fwd,mask),fwd,mask)\n",
    "\n",
    "def aug_rot_2T(x,fwd=True,mask=False): #transpose and rotate pi/2\n",
    "    return aug_rot_2(aug_T(x,fwd,mask),fwd,mask)\n",
    "\n",
    "trms_side_on = [aug_unit,aug_flipH]\n",
    "trms_top_down = [aug_unit,aug_flipV]\n",
    "trms_dihedral = [aug_unit,aug_flipH,aug_flipV,aug_T,aug_rot_2,aug_rot_2T,\n",
    "                 aug_rot_4cw,aug_rot_4cr]"
   ]
  },
  {
   "cell_type": "code",
   "execution_count": null,
   "metadata": {
    "_uuid": "82463057f489b7f6cf415233558edbaa58c801c4"
   },
   "outputs": [],
   "source": [
    "def enc_img(img):\n",
    "    return torch.transpose(torch.tensor(img),0,2).unsqueeze(0)\n",
    "\n",
    "def dec_img(img):\n",
    "    return to_np(torch.transpose(img.squeeze(0),0,2))\n",
    "\n",
    "def display_augs(x,augs=aug_unit):\n",
    "    columns = 4\n",
    "    n = len(augs)\n",
    "    rows = n//4 + 1\n",
    "    fig=plt.figure(figsize=(columns*4, rows*4))\n",
    "    img = enc_img(x)\n",
    "    for i in range(rows):\n",
    "        for j in range(columns):\n",
    "            idx = j+i*columns\n",
    "            if idx >= n: break\n",
    "            fig.add_subplot(rows, columns, idx+1)\n",
    "            plt.axis('off')\n",
    "            plt.imshow(dec_img(augs[idx](img)))\n",
    "    plt.show()\n",
    "    \n",
    "img = np.array(Image.open(os.path.join(TRAIN,'ce69faa4b.jpg')))\n",
    "display_augs(img,trms_dihedral)"
   ]
  },
  {
   "cell_type": "markdown",
   "metadata": {
    "_uuid": "f715b343f2accfb8b0b9bbdc9fd6638c6d893da9"
   },
   "source": [
    "Since the model predicts pixel masks, which are quite large, running standard functions for making a prediction will fail due to memory issue, especially for the test set, where about 100k 786x786 pixel masks should be created. Therefore, I wrote a function that does prediction batch by batch and applies F_save function for each generated mask."
   ]
  },
  {
   "cell_type": "code",
   "execution_count": null,
   "metadata": {
    "_uuid": "fa089fd879fb07d47ef774785a1e0a2b00046d38"
   },
   "outputs": [],
   "source": [
    "def model_pred(learner, dl, F_save): #if use train dl, disable shuffling\n",
    "    learner.model.eval();\n",
    "    name_list = dl.dataset.fnames\n",
    "    num_batchs = len(dl)\n",
    "    t = tqdm(iter(dl), leave=False, total=num_batchs)\n",
    "    count = 0\n",
    "    for x,y in t:\n",
    "        py = to_np(torch.sigmoid(learn.model(V(x))))\n",
    "        batch_size = len(py)\n",
    "        for i in range(batch_size):\n",
    "            F_save(py[i],to_np(y[i]),name_list[count])\n",
    "            count += 1\n",
    "            \n",
    "def pred_aug(x,aug=[aug_unit]):\n",
    "    pred = []\n",
    "    for aug_cur in aug:\n",
    "        py = to_np(aug_cur(torch.sigmoid(learn.model(V(aug_cur(x)))),\n",
    "                           fwd=False, mask=True))\n",
    "        pred.append(py)\n",
    "    pred = np.stack(pred, axis=0).mean(axis=0)\n",
    "    return pred\n",
    "\n",
    "#if use train dl, disable shuffling\n",
    "def model_pred_aug(learner, dl, F_save, aug=[aug_unit]):\n",
    "    learner.model.eval();\n",
    "    name_list = dl.dataset.fnames\n",
    "    num_batchs = len(dl)\n",
    "    t = tqdm(iter(dl), leave=False, total=num_batchs)\n",
    "    count = 0\n",
    "    for x,y in t:\n",
    "        pred = pred_aug(x,aug)           \n",
    "        batch_size = len(pred)\n",
    "        for i in range(batch_size):\n",
    "            F_save(pred[i],to_np(y[i]),name_list[count])\n",
    "            count += 1"
   ]
  },
  {
   "cell_type": "markdown",
   "metadata": {
    "_uuid": "fa7634b20774b7c2293d5f15f6f37ab2e19f85a2"
   },
   "source": [
    "### Prediction"
   ]
  },
  {
   "cell_type": "code",
   "execution_count": null,
   "metadata": {
    "_uuid": "c9700cc48f14aed6ef66024dccb5da51ab5df004"
   },
   "outputs": [],
   "source": [
    "m = to_gpu(Unet34(get_base(False)))\n",
    "models = UnetModel(m)"
   ]
  },
  {
   "cell_type": "code",
   "execution_count": null,
   "metadata": {
    "_uuid": "741a0f34d5da2ac0a97f88a32685a10d5771950e"
   },
   "outputs": [],
   "source": [
    "sz = 768 #image size\n",
    "bs = 8  #batch size\n",
    "md = get_data(sz,bs)"
   ]
  },
  {
   "cell_type": "code",
   "execution_count": null,
   "metadata": {
    "_uuid": "2cb66dcc8fb4a8ee7d583277199e6ca52b9a094a"
   },
   "outputs": [],
   "source": [
    "learn = ConvLearner(md, models)\n",
    "learn.models_path = PRETRAINED_SEGMENTATION_PATH\n",
    "learn.load('Unet34_768_1')\n",
    "learn.models_path = PATH"
   ]
  },
  {
   "cell_type": "markdown",
   "metadata": {
    "_uuid": "509e3579f27dfd404b575f8475a35a50759aef41"
   },
   "source": [
    "Running the model evaluation on the validation set."
   ]
  },
  {
   "cell_type": "code",
   "execution_count": null,
   "metadata": {
    "_uuid": "b1aa3ec5340bbb698142cbb89755ba5e631d6bb1",
    "scrolled": true
   },
   "outputs": [],
   "source": [
    "score = Score_eval()\n",
    "process_pred = lambda yp, y, name : score.put(split_mask(yp),name)\n",
    "model_pred_aug(learn, md.val_dl, process_pred, trms_dihedral)\n",
    "print('\\n',score.evaluate())"
   ]
  },
  {
   "cell_type": "markdown",
   "metadata": {
    "_uuid": "5b2b0ed553655a84761ac02bf3894a8d6703d344"
   },
   "source": [
    "It is the **score based only on images with ships**, a model responsible for ship detection (accuracy ~98%) takes care of images without ships. Since the fraction of empty images in the test set is 0.52, the expected score of the model stacked with ship detection one (https://www.kaggle.com/iafoss/fine-tuning-resnet34-on-ship-detection/notebook) is approximately 0.52 + 0.37 x 0.48 = 0.70 (if the new test set is similar to old training data). However, you should keep in mind that the evaluated model has been trained only for one epoch on full resolution images (the dice is only ~0.80 for 784x784 images). Continuing training the model and mask postprocessing can further boost it."
   ]
  },
  {
   "cell_type": "markdown",
   "metadata": {
    "_uuid": "a4308d215ee4970ebf0ce80964b826c9fa4bf630"
   },
   "source": [
    "### Submission\n",
    "Load the prediction of ship detection model (https://www.kaggle.com/iafoss/fine-tuning-resnet34-on-ship-detection/notebook) for the test set."
   ]
  },
  {
   "cell_type": "code",
   "execution_count": null,
   "metadata": {
    "_uuid": "4060cbb4a43de4899dbab4ed2f4cf3d557431ed9"
   },
   "outputs": [],
   "source": [
    "ship_detection = pd.read_csv(DETECTION_TEST_PRED)\n",
    "ship_detection.head()"
   ]
  },
  {
   "cell_type": "markdown",
   "metadata": {
    "_uuid": "95bb6b7a994acc27454d192d1bc7bb9de8a41876"
   },
   "source": [
    "Identify images with ships and run Unet34 model only for them.  It looks that there is some descripancy here since the fraction of empty images in public LB acording to empty submission test is 0.52."
   ]
  },
  {
   "cell_type": "code",
   "execution_count": null,
   "metadata": {
    "_uuid": "f0923fdae18aceffcdbf6b067e2e78bf794e1cb8"
   },
   "outputs": [],
   "source": [
    "test_names = ship_detection.loc[ship_detection['p_ship'] > 0.5, ['id']]['id'].values.tolist()\n",
    "test_names_nothing = ship_detection.loc[ship_detection['p_ship'] <= 0.5, ['id']]['id'].values.tolist()\n",
    "len(test_names), len(test_names_nothing)"
   ]
  },
  {
   "cell_type": "code",
   "execution_count": null,
   "metadata": {
    "_uuid": "e8b37e28cc5dc23d6769aa0765eaeadb4df9a0de"
   },
   "outputs": [],
   "source": [
    "md = get_data(sz,bs)\n",
    "learn.set_data(md)"
   ]
  },
  {
   "cell_type": "markdown",
   "metadata": {
    "_uuid": "8bb0a20538d9e51a3c1efbeaecbe064d7653f863"
   },
   "source": [
    "The function for mask decoding is borrowed from https://www.kaggle.com/kmader/from-trained-u-net-to-submission-part-2/notebook ."
   ]
  },
  {
   "cell_type": "code",
   "execution_count": null,
   "metadata": {
    "_uuid": "ec3a58469656ee1b7040d37ba36f6f1344753767"
   },
   "outputs": [],
   "source": [
    "def decode_mask(mask, shape=(768, 768)):\n",
    "    pixels = mask.T.flatten()\n",
    "    pixels = np.concatenate([[0], pixels, [0]])\n",
    "    runs = np.where(pixels[1:] != pixels[:-1])[0] + 1\n",
    "    runs[1::2] -= runs[::2]\n",
    "    return ' '.join(str(x) for x in runs)"
   ]
  },
  {
   "cell_type": "markdown",
   "metadata": {
    "_uuid": "0586084f54c369e9e8f5a6cbe4855983f7404c50"
   },
   "source": [
    "Predict masks only for images that are Identified to have ships."
   ]
  },
  {
   "cell_type": "code",
   "execution_count": null,
   "metadata": {
    "_uuid": "227ebf463005e664a9e8c0728b7aeb2c69765c60"
   },
   "outputs": [],
   "source": [
    "ship_list_dict = []\n",
    "for name in test_names_nothing:\n",
    "    ship_list_dict.append({'ImageId':name,'EncodedPixels':np.nan})"
   ]
  },
  {
   "cell_type": "code",
   "execution_count": null,
   "metadata": {
    "_uuid": "1e9f634e2e81c766c27179234fd843a73b35bf0c"
   },
   "outputs": [],
   "source": [
    "def enc_test(yp, y, name):\n",
    "    masks = split_mask(yp)\n",
    "    if(len(masks) == 0): \n",
    "        ship_list_dict.append({'ImageId':name,'EncodedPixels':np.nan})\n",
    "    for mask in masks:\n",
    "        ship_list_dict.append({'ImageId':name,'EncodedPixels':decode_mask(mask)})"
   ]
  },
  {
   "cell_type": "code",
   "execution_count": null,
   "metadata": {
    "_uuid": "e311f443432e40efdfb6b6a55c3891689f6aa2b3"
   },
   "outputs": [],
   "source": [
    "model_pred_aug(learn, md.test_dl, enc_test, trms_dihedral)\n",
    "pred_df = pd.DataFrame(ship_list_dict)\n",
    "pred_df.to_csv('submission.csv', index=False)"
   ]
  }
 ],
 "metadata": {
  "kernelspec": {
   "display_name": "Python 3",
   "language": "python",
   "name": "python3"
  },
  "language_info": {
   "codemirror_mode": {
    "name": "ipython",
    "version": 3
   },
   "file_extension": ".py",
   "mimetype": "text/x-python",
   "name": "python",
   "nbconvert_exporter": "python",
   "pygments_lexer": "ipython3",
   "version": "3.7.7"
  }
 },
 "nbformat": 4,
 "nbformat_minor": 1
}
