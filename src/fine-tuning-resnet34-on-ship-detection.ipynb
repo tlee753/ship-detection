{
 "cells": [
  {
   "cell_type": "markdown",
   "metadata": {
    "_uuid": "9380833a1a2503c5d3518f0ed8d6df8dcf05b7c2"
   },
   "source": [
    "## Overview\n",
    "Resnet34 is commonly used as an encoder for U-net and SSD, boosting the model performance and training time since you do not need to train the model from scratch. However, in particular cases it makes sense to do fine-tuning of Resnet34 model before using it as a decoder for object localization or image segmentation. In this competition the size of ship masks is much smaller than the size of images that leads to quite unbalanced training with ~1 positive pixel per 1000 negative ones. If images with no ships are used, instead of ~1:1000 you will end up with ~1:10000 unbalance, which is quite tough. Moreover, the training time is ~4 times longer since you need to process more images in each epoch. So, it is reasonable to drop empty images and focus only on ones with ships. Meanwhile, since the current dataset is quite different from ImageNet, the empty images are quite helpful in fine-tuning your encoder on a pseudo task - ship detection. Moreover, when the training of your U-net or SSD model is completed, you can run the model on images without ships, add false positives (~4000 in my case) as negative example to you training set, and train the model for several additional epochs. Finally, a good model focused on a single task, ship detection, can boost the final score when you stack up it with U-net or SSD. If you predict a ship for an empty image you will get automatically zero score for it, and since PLB has ~85% of empty images, prediction of empty images is quite important.\n",
    "\n",
    "In this notebook I want to share how to pretrain Resnet34 (or higher end models) on a ship detection task. After training of the head layers of the model on 256x256 rescaled images for one epoch the accuracy has reached 93.7%. The following fine-tuning of entire model for 2 more epochs with learning rate annealing boosted the accuracy to ~97%. If the training is continued for several epochs with a new data set composed of images of 384x384 resolution, the accuracy could be boosted to ~98%. Unfortunately, continuing training the model on full resolution, 768x768, images leaded to reduction of the accuracy that is likely attributed to insufficient model capacity."
   ]
  },
  {
   "cell_type": "code",
   "execution_count": 4,
   "metadata": {},
   "outputs": [
    {
     "name": "stdout",
     "output_type": "stream",
     "text": [
      "Requirement already satisfied: fastai==0.7.0 in /usr/local/Cellar/jupyterlab/2.0.1/libexec/lib/python3.7/site-packages (0.7.0)\n",
      "Requirement already satisfied: python-dateutil in /usr/local/Cellar/jupyterlab/2.0.1/libexec/lib/python3.7/site-packages (from fastai==0.7.0) (2.8.1)\n",
      "Requirement already satisfied: PyYAML in /usr/local/Cellar/jupyterlab/2.0.1/libexec/lib/python3.7/site-packages (from fastai==0.7.0) (5.3.1)\n",
      "Processing /Users/tylerlee/Library/Caches/pip/wheels/90/de/df/f1324f4dd966636ab877b82d467acad38a0998b1c42ddb7288/simplegeneric-0.8.1-py3-none-any.whl\n",
      "Requirement already satisfied: bleach in /usr/local/Cellar/jupyterlab/2.0.1/libexec/lib/python3.7/site-packages (from fastai==0.7.0) (3.1.1)\n",
      "Requirement already satisfied: webencodings in /usr/local/Cellar/jupyterlab/2.0.1/libexec/lib/python3.7/site-packages (from fastai==0.7.0) (0.5.1)\n",
      "Requirement already satisfied: testpath in /usr/local/Cellar/jupyterlab/2.0.1/libexec/lib/python3.7/site-packages (from fastai==0.7.0) (0.4.4)\n",
      "Collecting plotnine\n",
      "  Using cached plotnine-0.6.0-py3-none-any.whl (4.1 MB)\n",
      "Requirement already satisfied: entrypoints in /usr/local/Cellar/jupyterlab/2.0.1/libexec/lib/python3.7/site-packages (from fastai==0.7.0) (0.3)\n",
      "Requirement already satisfied: pyzmq in /usr/local/Cellar/jupyterlab/2.0.1/libexec/lib/python3.7/site-packages (from fastai==0.7.0) (19.0.0)\n",
      "Requirement already satisfied: jsonschema in /usr/local/Cellar/jupyterlab/2.0.1/libexec/lib/python3.7/site-packages (from fastai==0.7.0) (3.2.0)\n",
      "Collecting torchtext\n",
      "  Using cached torchtext-0.5.0-py3-none-any.whl (73 kB)\n",
      "Requirement already satisfied: jedi in /usr/local/Cellar/jupyterlab/2.0.1/libexec/lib/python3.7/site-packages (from fastai==0.7.0) (0.16.0)\n",
      "Requirement already satisfied: Jinja2 in /usr/local/Cellar/jupyterlab/2.0.1/libexec/lib/python3.7/site-packages (from fastai==0.7.0) (2.11.1)\n",
      "Requirement already satisfied: cycler in /usr/local/Cellar/jupyterlab/2.0.1/libexec/lib/python3.7/site-packages (from fastai==0.7.0) (0.10.0)\n",
      "Requirement already satisfied: seaborn in /usr/local/Cellar/jupyterlab/2.0.1/libexec/lib/python3.7/site-packages (from fastai==0.7.0) (0.10.0)\n",
      "Requirement already satisfied: certifi in /usr/local/Cellar/jupyterlab/2.0.1/libexec/lib/python3.7/site-packages (from fastai==0.7.0) (2019.11.28)\n",
      "Collecting html5lib\n",
      "  Using cached html5lib-1.0.1-py2.py3-none-any.whl (117 kB)\n",
      "Collecting jupyter\n",
      "  Using cached jupyter-1.0.0-py2.py3-none-any.whl (2.7 kB)\n",
      "Requirement already satisfied: tqdm in /usr/local/Cellar/jupyterlab/2.0.1/libexec/lib/python3.7/site-packages (from fastai==0.7.0) (4.44.1)\n",
      "Requirement already satisfied: ipykernel in /usr/local/Cellar/jupyterlab/2.0.1/libexec/lib/python3.7/site-packages (from fastai==0.7.0) (5.1.4)\n",
      "Requirement already satisfied: pickleshare in /usr/local/Cellar/jupyterlab/2.0.1/libexec/lib/python3.7/site-packages (from fastai==0.7.0) (0.7.5)\n",
      "Requirement already satisfied: pyparsing in /usr/local/Cellar/jupyterlab/2.0.1/libexec/lib/python3.7/site-packages (from fastai==0.7.0) (2.4.6)\n",
      "Requirement already satisfied: pandas-summary in /usr/local/Cellar/jupyterlab/2.0.1/libexec/lib/python3.7/site-packages (from fastai==0.7.0) (0.0.7)\n",
      "Requirement already satisfied: ptyprocess in /usr/local/Cellar/jupyterlab/2.0.1/libexec/lib/python3.7/site-packages (from fastai==0.7.0) (0.6.0)\n",
      "Requirement already satisfied: Pygments in /usr/local/Cellar/jupyterlab/2.0.1/libexec/lib/python3.7/site-packages (from fastai==0.7.0) (2.5.2)\n",
      "Collecting isoweek\n",
      "  Using cached isoweek-1.3.3-py2.py3-none-any.whl (7.1 kB)\n",
      "Requirement already satisfied: decorator in /usr/local/Cellar/jupyterlab/2.0.1/libexec/lib/python3.7/site-packages (from fastai==0.7.0) (4.4.2)\n",
      "Requirement already satisfied: ipython in /usr/local/Cellar/jupyterlab/2.0.1/libexec/lib/python3.7/site-packages (from fastai==0.7.0) (7.13.0)\n",
      "Collecting sklearn-pandas\n",
      "  Using cached sklearn_pandas-1.8.0-py2.py3-none-any.whl (12 kB)\n",
      "Requirement already satisfied: numpy in /usr/local/Cellar/jupyterlab/2.0.1/libexec/lib/python3.7/site-packages (from fastai==0.7.0) (1.18.2)\n",
      "Requirement already satisfied: torchvision in /usr/local/Cellar/jupyterlab/2.0.1/libexec/lib/python3.7/site-packages (from fastai==0.7.0) (0.2.1)\n",
      "Requirement already satisfied: MarkupSafe in /usr/local/Cellar/jupyterlab/2.0.1/libexec/lib/python3.7/site-packages (from fastai==0.7.0) (1.1.1)\n",
      "Collecting torch<0.4\n",
      "  Using cached torch-0.1.2.post2.tar.gz (128 kB)\n",
      "Requirement already satisfied: pandas in /usr/local/Cellar/jupyterlab/2.0.1/libexec/lib/python3.7/site-packages (from fastai==0.7.0) (1.0.3)\n",
      "Collecting graphviz\n",
      "  Using cached graphviz-0.13.2-py2.py3-none-any.whl (17 kB)\n",
      "Requirement already satisfied: Pillow in /usr/local/Cellar/jupyterlab/2.0.1/libexec/lib/python3.7/site-packages (from fastai==0.7.0) (7.0.0)\n",
      "Requirement already satisfied: tornado in /usr/local/Cellar/jupyterlab/2.0.1/libexec/lib/python3.7/site-packages (from fastai==0.7.0) (6.0.4)\n",
      "Requirement already satisfied: traitlets in /usr/local/Cellar/jupyterlab/2.0.1/libexec/lib/python3.7/site-packages (from fastai==0.7.0) (4.3.3)\n",
      "Collecting widgetsnbextension\n",
      "  Using cached widgetsnbextension-3.5.1-py2.py3-none-any.whl (2.2 MB)\n",
      "Requirement already satisfied: wcwidth in /usr/local/Cellar/jupyterlab/2.0.1/libexec/lib/python3.7/site-packages (from fastai==0.7.0) (0.1.8)\n",
      "Collecting bcolz\n",
      "  Using cached bcolz-1.2.1.tar.gz (1.5 MB)\n",
      "Collecting ipywidgets\n",
      "  Using cached ipywidgets-7.5.1-py2.py3-none-any.whl (121 kB)\n",
      "Requirement already satisfied: matplotlib in /usr/local/Cellar/jupyterlab/2.0.1/libexec/lib/python3.7/site-packages (from fastai==0.7.0) (3.2.1)\n",
      "Requirement already satisfied: ipython-genutils in /usr/local/Cellar/jupyterlab/2.0.1/libexec/lib/python3.7/site-packages (from fastai==0.7.0) (0.2.0)\n",
      "Requirement already satisfied: pytz in /usr/local/Cellar/jupyterlab/2.0.1/libexec/lib/python3.7/site-packages (from fastai==0.7.0) (2019.3)\n",
      "Requirement already satisfied: opencv-python in /usr/local/Cellar/jupyterlab/2.0.1/libexec/lib/python3.7/site-packages (from fastai==0.7.0) (4.2.0.32)\n",
      "Processing /Users/tylerlee/Library/Caches/pip/wheels/4b/6e/cd/ed084fa8b4c4985fd6281e89aad1a737145040f2487bc3b413/feather_format-0.4.0-py3-none-any.whl\n",
      "Requirement already satisfied: scipy in /usr/local/Cellar/jupyterlab/2.0.1/libexec/lib/python3.7/site-packages (from fastai==0.7.0) (1.4.1)\n",
      "Requirement already satisfied: six>=1.5 in /usr/local/Cellar/jupyterlab/2.0.1/libexec/lib/python3.7/site-packages (from python-dateutil->fastai==0.7.0) (1.14.0)\n",
      "Collecting patsy>=0.4.1\n",
      "  Using cached patsy-0.5.1-py2.py3-none-any.whl (231 kB)\n",
      "Collecting statsmodels>=0.9.0\n",
      "  Using cached statsmodels-0.11.1-cp37-cp37m-macosx_10_13_x86_64.whl (8.4 MB)\n",
      "Collecting descartes>=1.1.0\n",
      "  Using cached descartes-1.1.0-py3-none-any.whl (5.8 kB)\n",
      "Collecting mizani>=0.6.0\n",
      "  Using cached mizani-0.6.0-py2.py3-none-any.whl (61 kB)\n",
      "Requirement already satisfied: attrs>=17.4.0 in /usr/local/Cellar/jupyterlab/2.0.1/libexec/lib/python3.7/site-packages (from jsonschema->fastai==0.7.0) (19.3.0)\n",
      "Requirement already satisfied: setuptools in /usr/local/Cellar/jupyterlab/2.0.1/libexec/lib/python3.7/site-packages (from jsonschema->fastai==0.7.0) (45.2.0)\n",
      "Requirement already satisfied: pyrsistent>=0.14.0 in /usr/local/Cellar/jupyterlab/2.0.1/libexec/lib/python3.7/site-packages (from jsonschema->fastai==0.7.0) (0.15.7)\n",
      "Requirement already satisfied: importlib-metadata; python_version < \"3.8\" in /usr/local/Cellar/jupyterlab/2.0.1/libexec/lib/python3.7/site-packages (from jsonschema->fastai==0.7.0) (1.5.0)\n",
      "Requirement already satisfied: sentencepiece in /usr/local/Cellar/jupyterlab/2.0.1/libexec/lib/python3.7/site-packages (from torchtext->fastai==0.7.0) (0.1.85)\n",
      "Requirement already satisfied: requests in /usr/local/Cellar/jupyterlab/2.0.1/libexec/lib/python3.7/site-packages (from torchtext->fastai==0.7.0) (2.23.0)\n",
      "Requirement already satisfied: parso>=0.5.2 in /usr/local/Cellar/jupyterlab/2.0.1/libexec/lib/python3.7/site-packages (from jedi->fastai==0.7.0) (0.6.2)\n",
      "Collecting qtconsole\n",
      "  Using cached qtconsole-4.7.2-py2.py3-none-any.whl (117 kB)\n",
      "Requirement already satisfied: nbconvert in /usr/local/Cellar/jupyterlab/2.0.1/libexec/lib/python3.7/site-packages (from jupyter->fastai==0.7.0) (5.6.1)\n"
     ]
    },
    {
     "name": "stdout",
     "output_type": "stream",
     "text": [
      "Requirement already satisfied: jupyter-console in /usr/local/Cellar/jupyterlab/2.0.1/libexec/lib/python3.7/site-packages (from jupyter->fastai==0.7.0) (6.1.0)\n",
      "Requirement already satisfied: notebook in /usr/local/Cellar/jupyterlab/2.0.1/libexec/lib/python3.7/site-packages (from jupyter->fastai==0.7.0) (6.0.3)\n",
      "Requirement already satisfied: jupyter-client in /usr/local/Cellar/jupyterlab/2.0.1/libexec/lib/python3.7/site-packages (from ipykernel->fastai==0.7.0) (6.0.0)\n",
      "Requirement already satisfied: appnope; platform_system == \"Darwin\" in /usr/local/Cellar/jupyterlab/2.0.1/libexec/lib/python3.7/site-packages (from ipykernel->fastai==0.7.0) (0.1.0)\n",
      "Requirement already satisfied: prompt_toolkit!=3.0.0,!=3.0.1,<3.1.0,>=2.0.0 in /usr/local/Cellar/jupyterlab/2.0.1/libexec/lib/python3.7/site-packages (from ipython->fastai==0.7.0) (3.0.4)\n",
      "Requirement already satisfied: backcall in /usr/local/Cellar/jupyterlab/2.0.1/libexec/lib/python3.7/site-packages (from ipython->fastai==0.7.0) (0.1.0)\n",
      "Requirement already satisfied: pexpect in /usr/local/Cellar/jupyterlab/2.0.1/libexec/lib/python3.7/site-packages (from ipython->fastai==0.7.0) (4.8.0)\n",
      "Requirement already satisfied: scikit-learn>=0.15.0 in /usr/local/Cellar/jupyterlab/2.0.1/libexec/lib/python3.7/site-packages (from sklearn-pandas->fastai==0.7.0) (0.22.2.post1)\n",
      "Requirement already satisfied: nbformat>=4.2.0 in /usr/local/Cellar/jupyterlab/2.0.1/libexec/lib/python3.7/site-packages (from ipywidgets->fastai==0.7.0) (5.0.4)\n",
      "Requirement already satisfied: kiwisolver>=1.0.1 in /usr/local/Cellar/jupyterlab/2.0.1/libexec/lib/python3.7/site-packages (from matplotlib->fastai==0.7.0) (1.1.0)\n",
      "Collecting pyarrow>=0.4.0\n",
      "  Using cached pyarrow-0.16.0-cp37-cp37m-macosx_10_9_intel.whl (40.5 MB)\n",
      "Collecting palettable\n",
      "  Using cached palettable-3.3.0-py2.py3-none-any.whl (111 kB)\n",
      "Requirement already satisfied: zipp>=0.5 in /usr/local/Cellar/jupyterlab/2.0.1/libexec/lib/python3.7/site-packages (from importlib-metadata; python_version < \"3.8\"->jsonschema->fastai==0.7.0) (3.1.0)\n",
      "Requirement already satisfied: urllib3!=1.25.0,!=1.25.1,<1.26,>=1.21.1 in /usr/local/Cellar/jupyterlab/2.0.1/libexec/lib/python3.7/site-packages (from requests->torchtext->fastai==0.7.0) (1.25.8)\n",
      "Requirement already satisfied: idna<3,>=2.5 in /usr/local/Cellar/jupyterlab/2.0.1/libexec/lib/python3.7/site-packages (from requests->torchtext->fastai==0.7.0) (2.9)\n",
      "Requirement already satisfied: chardet<4,>=3.0.2 in /usr/local/Cellar/jupyterlab/2.0.1/libexec/lib/python3.7/site-packages (from requests->torchtext->fastai==0.7.0) (3.0.4)\n",
      "Collecting qtpy\n",
      "  Using cached QtPy-1.9.0-py2.py3-none-any.whl (54 kB)\n",
      "Requirement already satisfied: jupyter-core in /usr/local/Cellar/jupyterlab/2.0.1/libexec/lib/python3.7/site-packages (from qtconsole->jupyter->fastai==0.7.0) (4.6.3)\n",
      "Requirement already satisfied: mistune<2,>=0.8.1 in /usr/local/Cellar/jupyterlab/2.0.1/libexec/lib/python3.7/site-packages (from nbconvert->jupyter->fastai==0.7.0) (0.8.4)\n",
      "Requirement already satisfied: pandocfilters>=1.4.1 in /usr/local/Cellar/jupyterlab/2.0.1/libexec/lib/python3.7/site-packages (from nbconvert->jupyter->fastai==0.7.0) (1.4.2)\n",
      "Requirement already satisfied: defusedxml in /usr/local/Cellar/jupyterlab/2.0.1/libexec/lib/python3.7/site-packages (from nbconvert->jupyter->fastai==0.7.0) (0.6.0)\n",
      "Requirement already satisfied: Send2Trash in /usr/local/Cellar/jupyterlab/2.0.1/libexec/lib/python3.7/site-packages (from notebook->jupyter->fastai==0.7.0) (1.5.0)\n",
      "Requirement already satisfied: terminado>=0.8.1 in /usr/local/Cellar/jupyterlab/2.0.1/libexec/lib/python3.7/site-packages (from notebook->jupyter->fastai==0.7.0) (0.8.3)\n",
      "Requirement already satisfied: prometheus_client in /usr/local/Cellar/jupyterlab/2.0.1/libexec/lib/python3.7/site-packages (from notebook->jupyter->fastai==0.7.0) (0.7.1)\n",
      "Requirement already satisfied: joblib>=0.11 in /usr/local/Cellar/jupyterlab/2.0.1/libexec/lib/python3.7/site-packages (from scikit-learn>=0.15.0->sklearn-pandas->fastai==0.7.0) (0.14.1)\n",
      "Building wheels for collected packages: torch, bcolz\n",
      "  Building wheel for torch (setup.py) ... \u001b[?25lerror\n",
      "\u001b[31m  ERROR: Command errored out with exit status 1:\n",
      "   command: /usr/local/Cellar/jupyterlab/2.0.1/libexec/bin/python3.7 -u -c 'import sys, setuptools, tokenize; sys.argv[0] = '\"'\"'/private/var/folders/z_/9tnkxdn13sd6kg45rz2khrp80000gp/T/pip-install-lim_8a9g/torch/setup.py'\"'\"'; __file__='\"'\"'/private/var/folders/z_/9tnkxdn13sd6kg45rz2khrp80000gp/T/pip-install-lim_8a9g/torch/setup.py'\"'\"';f=getattr(tokenize, '\"'\"'open'\"'\"', open)(__file__);code=f.read().replace('\"'\"'\\r\\n'\"'\"', '\"'\"'\\n'\"'\"');f.close();exec(compile(code, __file__, '\"'\"'exec'\"'\"'))' bdist_wheel -d /private/var/folders/z_/9tnkxdn13sd6kg45rz2khrp80000gp/T/pip-wheel-1q8hy90f\n",
      "       cwd: /private/var/folders/z_/9tnkxdn13sd6kg45rz2khrp80000gp/T/pip-install-lim_8a9g/torch/\n",
      "  Complete output (30 lines):\n",
      "  running bdist_wheel\n",
      "  running build\n",
      "  running build_deps\n",
      "  Traceback (most recent call last):\n",
      "    File \"<string>\", line 1, in <module>\n",
      "    File \"/private/var/folders/z_/9tnkxdn13sd6kg45rz2khrp80000gp/T/pip-install-lim_8a9g/torch/setup.py\", line 265, in <module>\n",
      "      description=\"Tensors and Dynamic neural networks in Python with strong GPU acceleration\",\n",
      "    File \"/usr/local/Cellar/jupyterlab/2.0.1/libexec/lib/python3.7/site-packages/setuptools/__init__.py\", line 144, in setup\n",
      "      return distutils.core.setup(**attrs)\n",
      "    File \"/usr/local/opt/python/Frameworks/Python.framework/Versions/3.7/lib/python3.7/distutils/core.py\", line 148, in setup\n",
      "      dist.run_commands()\n",
      "    File \"/usr/local/opt/python/Frameworks/Python.framework/Versions/3.7/lib/python3.7/distutils/dist.py\", line 966, in run_commands\n",
      "      self.run_command(cmd)\n",
      "    File \"/usr/local/opt/python/Frameworks/Python.framework/Versions/3.7/lib/python3.7/distutils/dist.py\", line 985, in run_command\n",
      "      cmd_obj.run()\n",
      "    File \"/usr/local/Cellar/jupyterlab/2.0.1/libexec/lib/python3.7/site-packages/wheel/bdist_wheel.py\", line 223, in run\n",
      "      self.run_command('build')\n",
      "    File \"/usr/local/opt/python/Frameworks/Python.framework/Versions/3.7/lib/python3.7/distutils/cmd.py\", line 313, in run_command\n",
      "      self.distribution.run_command(command)\n",
      "    File \"/usr/local/opt/python/Frameworks/Python.framework/Versions/3.7/lib/python3.7/distutils/dist.py\", line 985, in run_command\n",
      "      cmd_obj.run()\n",
      "    File \"/usr/local/opt/python/Frameworks/Python.framework/Versions/3.7/lib/python3.7/distutils/command/build.py\", line 135, in run\n",
      "      self.run_command(cmd_name)\n",
      "    File \"/usr/local/opt/python/Frameworks/Python.framework/Versions/3.7/lib/python3.7/distutils/cmd.py\", line 313, in run_command\n",
      "      self.distribution.run_command(command)\n",
      "    File \"/usr/local/opt/python/Frameworks/Python.framework/Versions/3.7/lib/python3.7/distutils/dist.py\", line 985, in run_command\n",
      "      cmd_obj.run()\n",
      "    File \"/private/var/folders/z_/9tnkxdn13sd6kg45rz2khrp80000gp/T/pip-install-lim_8a9g/torch/setup.py\", line 51, in run\n",
      "      from tools.nnwrap import generate_wrappers as generate_nn_wrappers\n",
      "  ModuleNotFoundError: No module named 'tools.nnwrap'\n",
      "  ----------------------------------------\u001b[0m\n",
      "\u001b[31m  ERROR: Failed building wheel for torch\u001b[0m\n",
      "\u001b[?25h  Running setup.py clean for torch\n",
      "\u001b[31m  ERROR: Command errored out with exit status 1:\n",
      "   command: /usr/local/Cellar/jupyterlab/2.0.1/libexec/bin/python3.7 -u -c 'import sys, setuptools, tokenize; sys.argv[0] = '\"'\"'/private/var/folders/z_/9tnkxdn13sd6kg45rz2khrp80000gp/T/pip-install-lim_8a9g/torch/setup.py'\"'\"'; __file__='\"'\"'/private/var/folders/z_/9tnkxdn13sd6kg45rz2khrp80000gp/T/pip-install-lim_8a9g/torch/setup.py'\"'\"';f=getattr(tokenize, '\"'\"'open'\"'\"', open)(__file__);code=f.read().replace('\"'\"'\\r\\n'\"'\"', '\"'\"'\\n'\"'\"');f.close();exec(compile(code, __file__, '\"'\"'exec'\"'\"'))' clean --all\n",
      "       cwd: /private/var/folders/z_/9tnkxdn13sd6kg45rz2khrp80000gp/T/pip-install-lim_8a9g/torch\n",
      "  Complete output (2 lines):\n",
      "  running clean\n",
      "  error: [Errno 2] No such file or directory: '.gitignore'\n",
      "  ----------------------------------------\u001b[0m\n",
      "\u001b[31m  ERROR: Failed cleaning build dir for torch\u001b[0m\n",
      "  Building wheel for bcolz (setup.py) ... \u001b[?25lerror\n",
      "\u001b[31m  ERROR: Command errored out with exit status 1:\n",
      "   command: /usr/local/Cellar/jupyterlab/2.0.1/libexec/bin/python3.7 -u -c 'import sys, setuptools, tokenize; sys.argv[0] = '\"'\"'/private/var/folders/z_/9tnkxdn13sd6kg45rz2khrp80000gp/T/pip-install-lim_8a9g/bcolz/setup.py'\"'\"'; __file__='\"'\"'/private/var/folders/z_/9tnkxdn13sd6kg45rz2khrp80000gp/T/pip-install-lim_8a9g/bcolz/setup.py'\"'\"';f=getattr(tokenize, '\"'\"'open'\"'\"', open)(__file__);code=f.read().replace('\"'\"'\\r\\n'\"'\"', '\"'\"'\\n'\"'\"');f.close();exec(compile(code, __file__, '\"'\"'exec'\"'\"'))' bdist_wheel -d /private/var/folders/z_/9tnkxdn13sd6kg45rz2khrp80000gp/T/pip-wheel-hsjy4vtd\n",
      "       cwd: /private/var/folders/z_/9tnkxdn13sd6kg45rz2khrp80000gp/T/pip-install-lim_8a9g/bcolz/\n",
      "  Complete output (93 lines):\n",
      "  SSE2 detected\n",
      "  AVX2 detected\n",
      "  running bdist_wheel\n",
      "  running build\n",
      "  running build_py\n",
      "  creating build\n",
      "  creating build/lib.macosx-10.15-x86_64-3.7\n",
      "  creating build/lib.macosx-10.15-x86_64-3.7/bcolz\n",
      "  copying bcolz/py2help_tests.py -> build/lib.macosx-10.15-x86_64-3.7/bcolz\n",
      "  copying bcolz/version.py -> build/lib.macosx-10.15-x86_64-3.7/bcolz\n",
      "  copying bcolz/toplevel.py -> build/lib.macosx-10.15-x86_64-3.7/bcolz\n",
      "  copying bcolz/ctable.py -> build/lib.macosx-10.15-x86_64-3.7/bcolz\n",
      "  copying bcolz/__init__.py -> build/lib.macosx-10.15-x86_64-3.7/bcolz\n",
      "  copying bcolz/utils.py -> build/lib.macosx-10.15-x86_64-3.7/bcolz\n",
      "  copying bcolz/chunked_eval.py -> build/lib.macosx-10.15-x86_64-3.7/bcolz\n",
      "  copying bcolz/defaults.py -> build/lib.macosx-10.15-x86_64-3.7/bcolz\n",
      "  copying bcolz/attrs.py -> build/lib.macosx-10.15-x86_64-3.7/bcolz\n",
      "  copying bcolz/py2help.py -> build/lib.macosx-10.15-x86_64-3.7/bcolz\n",
      "  copying bcolz/arrayprint.py -> build/lib.macosx-10.15-x86_64-3.7/bcolz\n",
      "  creating build/lib.macosx-10.15-x86_64-3.7/bcolz/tests\n",
      "  copying bcolz/tests/test_ndcarray.py -> build/lib.macosx-10.15-x86_64-3.7/bcolz/tests\n",
      "  copying bcolz/tests/test_carray_objects.py -> build/lib.macosx-10.15-x86_64-3.7/bcolz/tests\n",
      "  copying bcolz/tests/test_attrs.py -> build/lib.macosx-10.15-x86_64-3.7/bcolz/tests\n",
      "  copying bcolz/tests/__init__.py -> build/lib.macosx-10.15-x86_64-3.7/bcolz/tests\n",
      "  copying bcolz/tests/all.py -> build/lib.macosx-10.15-x86_64-3.7/bcolz/tests\n",
      "  copying bcolz/tests/common.py -> build/lib.macosx-10.15-x86_64-3.7/bcolz/tests\n",
      "  copying bcolz/tests/test_queries.py -> build/lib.macosx-10.15-x86_64-3.7/bcolz/tests\n",
      "  copying bcolz/tests/test_ctable.py -> build/lib.macosx-10.15-x86_64-3.7/bcolz/tests\n",
      "  copying bcolz/tests/test_carray.py -> build/lib.macosx-10.15-x86_64-3.7/bcolz/tests\n",
      "  copying bcolz/carray_ext.pxd -> build/lib.macosx-10.15-x86_64-3.7/bcolz\n",
      "  running build_ext\n",
      "  skipping 'bcolz/carray_ext.c' Cython extension (up-to-date)\n",
      "  building 'bcolz.carray_ext' extension\n",
      "  creating build/temp.macosx-10.15-x86_64-3.7\n",
      "  creating build/temp.macosx-10.15-x86_64-3.7/bcolz\n",
      "  creating build/temp.macosx-10.15-x86_64-3.7/c-blosc\n",
      "  creating build/temp.macosx-10.15-x86_64-3.7/c-blosc/blosc\n",
      "  creating build/temp.macosx-10.15-x86_64-3.7/c-blosc/internal-complibs\n",
      "  creating build/temp.macosx-10.15-x86_64-3.7/c-blosc/internal-complibs/lz4-1.8.1.2\n",
      "  creating build/temp.macosx-10.15-x86_64-3.7/c-blosc/internal-complibs/snappy-1.1.1\n",
      "  creating build/temp.macosx-10.15-x86_64-3.7/c-blosc/internal-complibs/zlib-1.2.8\n",
      "  creating build/temp.macosx-10.15-x86_64-3.7/c-blosc/internal-complibs/zstd-1.3.4\n",
      "  creating build/temp.macosx-10.15-x86_64-3.7/c-blosc/internal-complibs/zstd-1.3.4/compress\n",
      "  creating build/temp.macosx-10.15-x86_64-3.7/c-blosc/internal-complibs/zstd-1.3.4/dictBuilder\n",
      "  creating build/temp.macosx-10.15-x86_64-3.7/c-blosc/internal-complibs/zstd-1.3.4/decompress\n",
      "  creating build/temp.macosx-10.15-x86_64-3.7/c-blosc/internal-complibs/zstd-1.3.4/legacy\n",
      "  creating build/temp.macosx-10.15-x86_64-3.7/c-blosc/internal-complibs/zstd-1.3.4/common\n",
      "  creating build/temp.macosx-10.15-x86_64-3.7/c-blosc/internal-complibs/zstd-1.3.4/deprecated\n",
      "  clang -Wno-unused-result -Wsign-compare -Wunreachable-code -fno-common -dynamic -DNDEBUG -g -fwrapv -O3 -Wall -isysroot /Library/Developer/CommandLineTools/SDKs/MacOSX10.15.sdk -I/Library/Developer/CommandLineTools/SDKs/MacOSX10.15.sdk/usr/include -I/Library/Developer/CommandLineTools/SDKs/MacOSX10.15.sdk/System/Library/Frameworks/Tk.framework/Versions/8.5/Headers -DHAVE_LZ4=1 -DHAVE_SNAPPY=1 -DHAVE_ZLIB=1 -DHAVE_ZSTD=1 -Ibcolz -Ic-blosc/blosc -Ic-blosc/internal-complibs/zstd-1.3.4 -Ic-blosc/internal-complibs/lz4-1.8.1.2 -Ic-blosc/internal-complibs/snappy-1.1.1 -Ic-blosc/internal-complibs/zlib-1.2.8 -Ic-blosc/internal-complibs/zstd-1.3.4/compress -Ic-blosc/internal-complibs/zstd-1.3.4/dictBuilder -Ic-blosc/internal-complibs/zstd-1.3.4/decompress -Ic-blosc/internal-complibs/zstd-1.3.4/legacy -Ic-blosc/internal-complibs/zstd-1.3.4/common -Ic-blosc/internal-complibs/zstd-1.3.4/dll -Ic-blosc/internal-complibs/zstd-1.3.4/deprecated -I/usr/local/Cellar/jupyterlab/2.0.1/libexec/lib/python3.7/site-packages/numpy/core/include -I/usr/local/opt/python/Frameworks/Python.framework/Versions/3.7/include/python3.7m -c bcolz/carray_ext.c -o build/temp.macosx-10.15-x86_64-3.7/bcolz/carray_ext.o -DSHUFFLE_SSE2_ENABLED -msse2 -DSHUFFLE_AVX2_ENABLED -mavx2\n",
      "  In file included from bcolz/carray_ext.c:525:\n",
      "  In file included from /usr/local/Cellar/jupyterlab/2.0.1/libexec/lib/python3.7/site-packages/numpy/core/include/numpy/arrayobject.h:4:\n",
      "  In file included from /usr/local/Cellar/jupyterlab/2.0.1/libexec/lib/python3.7/site-packages/numpy/core/include/numpy/ndarrayobject.h:12:\n",
      "  In file included from /usr/local/Cellar/jupyterlab/2.0.1/libexec/lib/python3.7/site-packages/numpy/core/include/numpy/ndarraytypes.h:1832:\n",
      "  /usr/local/Cellar/jupyterlab/2.0.1/libexec/lib/python3.7/site-packages/numpy/core/include/numpy/npy_1_7_deprecated_api.h:17:2: warning: \"Using deprecated NumPy API, disable it with \"          \"#define NPY_NO_DEPRECATED_API NPY_1_7_API_VERSION\" [-W#warnings]\n",
      "  #warning \"Using deprecated NumPy API, disable it with \" \\\n",
      "   ^\n",
      "  1 warning generated.\n",
      "  clang -Wno-unused-result -Wsign-compare -Wunreachable-code -fno-common -dynamic -DNDEBUG -g -fwrapv -O3 -Wall -isysroot /Library/Developer/CommandLineTools/SDKs/MacOSX10.15.sdk -I/Library/Developer/CommandLineTools/SDKs/MacOSX10.15.sdk/usr/include -I/Library/Developer/CommandLineTools/SDKs/MacOSX10.15.sdk/System/Library/Frameworks/Tk.framework/Versions/8.5/Headers -DHAVE_LZ4=1 -DHAVE_SNAPPY=1 -DHAVE_ZLIB=1 -DHAVE_ZSTD=1 -Ibcolz -Ic-blosc/blosc -Ic-blosc/internal-complibs/zstd-1.3.4 -Ic-blosc/internal-complibs/lz4-1.8.1.2 -Ic-blosc/internal-complibs/snappy-1.1.1 -Ic-blosc/internal-complibs/zlib-1.2.8 -Ic-blosc/internal-complibs/zstd-1.3.4/compress -Ic-blosc/internal-complibs/zstd-1.3.4/dictBuilder -Ic-blosc/internal-complibs/zstd-1.3.4/decompress -Ic-blosc/internal-complibs/zstd-1.3.4/legacy -Ic-blosc/internal-complibs/zstd-1.3.4/common -Ic-blosc/internal-complibs/zstd-1.3.4/dll -Ic-blosc/internal-complibs/zstd-1.3.4/deprecated -I/usr/local/Cellar/jupyterlab/2.0.1/libexec/lib/python3.7/site-packages/numpy/core/include -I/usr/local/opt/python/Frameworks/Python.framework/Versions/3.7/include/python3.7m -c c-blosc/blosc/blosc.c -o build/temp.macosx-10.15-x86_64-3.7/c-blosc/blosc/blosc.o -DSHUFFLE_SSE2_ENABLED -msse2 -DSHUFFLE_AVX2_ENABLED -mavx2\n",
      "  c-blosc/blosc/blosc.c:874:7: warning: unused variable 'rc' [-Wunused-variable]\n",
      "    int rc;\n",
      "        ^\n",
      "  c-blosc/blosc/blosc.c:1656:7: warning: unused variable 'rc' [-Wunused-variable]\n",
      "    int rc;\n",
      "        ^\n",
      "  c-blosc/blosc/blosc.c:2136:7: warning: unused variable 'rc' [-Wunused-variable]\n",
      "    int rc;\n",
      "        ^\n",
      "  3 warnings generated.\n",
      "  clang -Wno-unused-result -Wsign-compare -Wunreachable-code -fno-common -dynamic -DNDEBUG -g -fwrapv -O3 -Wall -isysroot /Library/Developer/CommandLineTools/SDKs/MacOSX10.15.sdk -I/Library/Developer/CommandLineTools/SDKs/MacOSX10.15.sdk/usr/include -I/Library/Developer/CommandLineTools/SDKs/MacOSX10.15.sdk/System/Library/Frameworks/Tk.framework/Versions/8.5/Headers -DHAVE_LZ4=1 -DHAVE_SNAPPY=1 -DHAVE_ZLIB=1 -DHAVE_ZSTD=1 -Ibcolz -Ic-blosc/blosc -Ic-blosc/internal-complibs/zstd-1.3.4 -Ic-blosc/internal-complibs/lz4-1.8.1.2 -Ic-blosc/internal-complibs/snappy-1.1.1 -Ic-blosc/internal-complibs/zlib-1.2.8 -Ic-blosc/internal-complibs/zstd-1.3.4/compress -Ic-blosc/internal-complibs/zstd-1.3.4/dictBuilder -Ic-blosc/internal-complibs/zstd-1.3.4/decompress -Ic-blosc/internal-complibs/zstd-1.3.4/legacy -Ic-blosc/internal-complibs/zstd-1.3.4/common -Ic-blosc/internal-complibs/zstd-1.3.4/dll -Ic-blosc/internal-complibs/zstd-1.3.4/deprecated -I/usr/local/Cellar/jupyterlab/2.0.1/libexec/lib/python3.7/site-packages/numpy/core/include -I/usr/local/opt/python/Frameworks/Python.framework/Versions/3.7/include/python3.7m -c c-blosc/blosc/bitshuffle-generic.c -o build/temp.macosx-10.15-x86_64-3.7/c-blosc/blosc/bitshuffle-generic.o -DSHUFFLE_SSE2_ENABLED -msse2 -DSHUFFLE_AVX2_ENABLED -mavx2\n",
      "  clang -Wno-unused-result -Wsign-compare -Wunreachable-code -fno-common -dynamic -DNDEBUG -g -fwrapv -O3 -Wall -isysroot /Library/Developer/CommandLineTools/SDKs/MacOSX10.15.sdk -I/Library/Developer/CommandLineTools/SDKs/MacOSX10.15.sdk/usr/include -I/Library/Developer/CommandLineTools/SDKs/MacOSX10.15.sdk/System/Library/Frameworks/Tk.framework/Versions/8.5/Headers -DHAVE_LZ4=1 -DHAVE_SNAPPY=1 -DHAVE_ZLIB=1 -DHAVE_ZSTD=1 -Ibcolz -Ic-blosc/blosc -Ic-blosc/internal-complibs/zstd-1.3.4 -Ic-blosc/internal-complibs/lz4-1.8.1.2 -Ic-blosc/internal-complibs/snappy-1.1.1 -Ic-blosc/internal-complibs/zlib-1.2.8 -Ic-blosc/internal-complibs/zstd-1.3.4/compress -Ic-blosc/internal-complibs/zstd-1.3.4/dictBuilder -Ic-blosc/internal-complibs/zstd-1.3.4/decompress -Ic-blosc/internal-complibs/zstd-1.3.4/legacy -Ic-blosc/internal-complibs/zstd-1.3.4/common -Ic-blosc/internal-complibs/zstd-1.3.4/dll -Ic-blosc/internal-complibs/zstd-1.3.4/deprecated -I/usr/local/Cellar/jupyterlab/2.0.1/libexec/lib/python3.7/site-packages/numpy/core/include -I/usr/local/opt/python/Frameworks/Python.framework/Versions/3.7/include/python3.7m -c c-blosc/blosc/shuffle.c -o build/temp.macosx-10.15-x86_64-3.7/c-blosc/blosc/shuffle.o -DSHUFFLE_SSE2_ENABLED -msse2 -DSHUFFLE_AVX2_ENABLED -mavx2\n",
      "  c-blosc/blosc/shuffle.c:170:1: warning: type specifier missing, defaults to 'int' [-Wimplicit-int]\n",
      "  _xgetbv(uint32_t xcr) {\n",
      "  ^\n",
      "  /Library/Developer/CommandLineTools/usr/lib/clang/11.0.3/include/xsaveintrin.h:35:43: note: expanded from macro '_xgetbv'\n",
      "  #define _xgetbv(A) __builtin_ia32_xgetbv((long long)(A))\n",
      "                                            ^\n",
      "  c-blosc/blosc/shuffle.c:170:1: error: function cannot return function type 'int (uint32_t)' (aka 'int (unsigned int)')\n",
      "  /Library/Developer/CommandLineTools/usr/lib/clang/11.0.3/include/xsaveintrin.h:35:42: note: expanded from macro '_xgetbv'\n",
      "  #define _xgetbv(A) __builtin_ia32_xgetbv((long long)(A))\n",
      "                                           ^\n",
      "  c-blosc/blosc/shuffle.c:170:1: error: definition of builtin function '__builtin_ia32_xgetbv'\n",
      "  /Library/Developer/CommandLineTools/usr/lib/clang/11.0.3/include/xsaveintrin.h:35:20: note: expanded from macro '_xgetbv'\n",
      "  #define _xgetbv(A) __builtin_ia32_xgetbv((long long)(A))\n",
      "                     ^\n",
      "  c-blosc/blosc/shuffle.c:170:1: error: parameter name omitted\n",
      "  /Library/Developer/CommandLineTools/usr/lib/clang/11.0.3/include/xsaveintrin.h:35:43: note: expanded from macro '_xgetbv'\n",
      "  #define _xgetbv(A) __builtin_ia32_xgetbv((long long)(A))\n",
      "                                            ^\n",
      "  c-blosc/blosc/shuffle.c:180:10: error: use of undeclared identifier 'xcr'\n",
      "      \"c\" (xcr)\n",
      "           ^\n",
      "  1 warning and 4 errors generated.\n",
      "  error: command 'clang' failed with exit status 1\n",
      "  ----------------------------------------\u001b[0m\n",
      "\u001b[31m  ERROR: Failed building wheel for bcolz\u001b[0m\n",
      "\u001b[?25h  Running setup.py clean for bcolz\n"
     ]
    },
    {
     "name": "stdout",
     "output_type": "stream",
     "text": [
      "Failed to build torch bcolz\n",
      "Installing collected packages: simplegeneric, patsy, statsmodels, descartes, palettable, mizani, plotnine, torch, torchtext, html5lib, qtpy, qtconsole, widgetsnbextension, ipywidgets, jupyter, isoweek, sklearn-pandas, graphviz, bcolz, pyarrow, feather-format\n",
      "  Attempting uninstall: torch\n",
      "    Found existing installation: torch 0.4.1\n",
      "    Uninstalling torch-0.4.1:\n",
      "      Successfully uninstalled torch-0.4.1\n",
      "    Running setup.py install for torch ... \u001b[?25lerror\n",
      "\u001b[31m    ERROR: Command errored out with exit status 1:\n",
      "     command: /usr/local/Cellar/jupyterlab/2.0.1/libexec/bin/python3.7 -u -c 'import sys, setuptools, tokenize; sys.argv[0] = '\"'\"'/private/var/folders/z_/9tnkxdn13sd6kg45rz2khrp80000gp/T/pip-install-lim_8a9g/torch/setup.py'\"'\"'; __file__='\"'\"'/private/var/folders/z_/9tnkxdn13sd6kg45rz2khrp80000gp/T/pip-install-lim_8a9g/torch/setup.py'\"'\"';f=getattr(tokenize, '\"'\"'open'\"'\"', open)(__file__);code=f.read().replace('\"'\"'\\r\\n'\"'\"', '\"'\"'\\n'\"'\"');f.close();exec(compile(code, __file__, '\"'\"'exec'\"'\"'))' install --record /private/var/folders/z_/9tnkxdn13sd6kg45rz2khrp80000gp/T/pip-record-5z3jo45f/install-record.txt --single-version-externally-managed --compile --install-headers /usr/local/Cellar/jupyterlab/2.0.1/libexec/bin/../include/site/python3.7/torch\n",
      "         cwd: /private/var/folders/z_/9tnkxdn13sd6kg45rz2khrp80000gp/T/pip-install-lim_8a9g/torch/\n",
      "    Complete output (23 lines):\n",
      "    running install\n",
      "    running build_deps\n",
      "    Traceback (most recent call last):\n",
      "      File \"<string>\", line 1, in <module>\n",
      "      File \"/private/var/folders/z_/9tnkxdn13sd6kg45rz2khrp80000gp/T/pip-install-lim_8a9g/torch/setup.py\", line 265, in <module>\n",
      "        description=\"Tensors and Dynamic neural networks in Python with strong GPU acceleration\",\n",
      "      File \"/usr/local/Cellar/jupyterlab/2.0.1/libexec/lib/python3.7/site-packages/setuptools/__init__.py\", line 144, in setup\n",
      "        return distutils.core.setup(**attrs)\n",
      "      File \"/usr/local/opt/python/Frameworks/Python.framework/Versions/3.7/lib/python3.7/distutils/core.py\", line 148, in setup\n",
      "        dist.run_commands()\n",
      "      File \"/usr/local/opt/python/Frameworks/Python.framework/Versions/3.7/lib/python3.7/distutils/dist.py\", line 966, in run_commands\n",
      "        self.run_command(cmd)\n",
      "      File \"/usr/local/opt/python/Frameworks/Python.framework/Versions/3.7/lib/python3.7/distutils/dist.py\", line 985, in run_command\n",
      "        cmd_obj.run()\n",
      "      File \"/private/var/folders/z_/9tnkxdn13sd6kg45rz2khrp80000gp/T/pip-install-lim_8a9g/torch/setup.py\", line 99, in run\n",
      "        self.run_command('build_deps')\n",
      "      File \"/usr/local/opt/python/Frameworks/Python.framework/Versions/3.7/lib/python3.7/distutils/cmd.py\", line 313, in run_command\n",
      "        self.distribution.run_command(command)\n",
      "      File \"/usr/local/opt/python/Frameworks/Python.framework/Versions/3.7/lib/python3.7/distutils/dist.py\", line 985, in run_command\n",
      "        cmd_obj.run()\n",
      "      File \"/private/var/folders/z_/9tnkxdn13sd6kg45rz2khrp80000gp/T/pip-install-lim_8a9g/torch/setup.py\", line 51, in run\n",
      "        from tools.nnwrap import generate_wrappers as generate_nn_wrappers\n",
      "    ModuleNotFoundError: No module named 'tools.nnwrap'\n",
      "    ----------------------------------------\u001b[0m\n",
      "\u001b[?25h  Rolling back uninstall of torch\n",
      "  Moving to /usr/local/Cellar/jupyterlab/2.0.1/libexec/lib/python3.7/site-packages/torch-0.4.1.dist-info/\n",
      "   from /usr/local/Cellar/jupyterlab/2.0.1/libexec/lib/python3.7/site-packages/~orch-0.4.1.dist-info\n",
      "  Moving to /usr/local/Cellar/jupyterlab/2.0.1/libexec/lib/python3.7/site-packages/torch/\n",
      "   from /usr/local/Cellar/jupyterlab/2.0.1/libexec/lib/python3.7/site-packages/~orch\n",
      "\u001b[31mERROR: Command errored out with exit status 1: /usr/local/Cellar/jupyterlab/2.0.1/libexec/bin/python3.7 -u -c 'import sys, setuptools, tokenize; sys.argv[0] = '\"'\"'/private/var/folders/z_/9tnkxdn13sd6kg45rz2khrp80000gp/T/pip-install-lim_8a9g/torch/setup.py'\"'\"'; __file__='\"'\"'/private/var/folders/z_/9tnkxdn13sd6kg45rz2khrp80000gp/T/pip-install-lim_8a9g/torch/setup.py'\"'\"';f=getattr(tokenize, '\"'\"'open'\"'\"', open)(__file__);code=f.read().replace('\"'\"'\\r\\n'\"'\"', '\"'\"'\\n'\"'\"');f.close();exec(compile(code, __file__, '\"'\"'exec'\"'\"'))' install --record /private/var/folders/z_/9tnkxdn13sd6kg45rz2khrp80000gp/T/pip-record-5z3jo45f/install-record.txt --single-version-externally-managed --compile --install-headers /usr/local/Cellar/jupyterlab/2.0.1/libexec/bin/../include/site/python3.7/torch Check the logs for full command output.\u001b[0m\n",
      "Requirement already satisfied: torch==0.4.1 in /usr/local/Cellar/jupyterlab/2.0.1/libexec/lib/python3.7/site-packages (0.4.1)\n",
      "Requirement already satisfied: torchvision==0.2.1 in /usr/local/Cellar/jupyterlab/2.0.1/libexec/lib/python3.7/site-packages (0.2.1)\n",
      "Requirement already satisfied: pillow>=4.1.1 in /usr/local/Cellar/jupyterlab/2.0.1/libexec/lib/python3.7/site-packages (from torchvision==0.2.1) (7.0.0)\n",
      "Requirement already satisfied: numpy in /usr/local/Cellar/jupyterlab/2.0.1/libexec/lib/python3.7/site-packages (from torchvision==0.2.1) (1.18.2)\n",
      "Requirement already satisfied: six in /usr/local/Cellar/jupyterlab/2.0.1/libexec/lib/python3.7/site-packages (from torchvision==0.2.1) (1.14.0)\n"
     ]
    }
   ],
   "source": [
    "import sys\n",
    "!{sys.executable} -m pip install fastai==0.7.0 \n",
    "!{sys.executable} -m pip install torch==0.4.1 torchvision==0.2.1"
   ]
  },
  {
   "cell_type": "code",
   "execution_count": 5,
   "metadata": {
    "_uuid": "2a2f9181ed56a8310f6188ac1254f903574fb115"
   },
   "outputs": [
    {
     "ename": "SyntaxError",
     "evalue": "invalid syntax (core.py, line 31)",
     "output_type": "error",
     "traceback": [
      "Traceback \u001b[0;36m(most recent call last)\u001b[0m:\n",
      "  File \u001b[1;32m\"/usr/local/Cellar/jupyterlab/2.0.1/libexec/lib/python3.7/site-packages/IPython/core/interactiveshell.py\"\u001b[0m, line \u001b[1;32m3331\u001b[0m, in \u001b[1;35mrun_code\u001b[0m\n    exec(code_obj, self.user_global_ns, self.user_ns)\n",
      "  File \u001b[1;32m\"<ipython-input-5-07c2d7cbd69f>\"\u001b[0m, line \u001b[1;32m1\u001b[0m, in \u001b[1;35m<module>\u001b[0m\n    from fastai.conv_learner import *\n",
      "\u001b[0;36m  File \u001b[0;32m\"/usr/local/Cellar/jupyterlab/2.0.1/libexec/lib/python3.7/site-packages/fastai/conv_learner.py\"\u001b[0;36m, line \u001b[0;32m1\u001b[0;36m, in \u001b[0;35m<module>\u001b[0;36m\u001b[0m\n\u001b[0;31m    from .core import *\u001b[0m\n",
      "\u001b[0;36m  File \u001b[0;32m\"/usr/local/Cellar/jupyterlab/2.0.1/libexec/lib/python3.7/site-packages/fastai/core.py\"\u001b[0;36m, line \u001b[0;32m31\u001b[0m\n\u001b[0;31m    if cuda: a = to_gpu(a, async=True)\u001b[0m\n\u001b[0m                               ^\u001b[0m\n\u001b[0;31mSyntaxError\u001b[0m\u001b[0;31m:\u001b[0m invalid syntax\n"
     ]
    }
   ],
   "source": [
    "from fastai.conv_learner import *\n",
    "from fastai.dataset import *\n",
    "\n",
    "import pandas as pd\n",
    "import numpy as np\n",
    "import os\n",
    "from sklearn.model_selection import train_test_split"
   ]
  },
  {
   "cell_type": "markdown",
   "metadata": {
    "_uuid": "8fa09c99d9f5b03e8e3a213f6d84902d5e1d59e1"
   },
   "source": [
    "### Data"
   ]
  },
  {
   "cell_type": "code",
   "execution_count": null,
   "metadata": {
    "_uuid": "85e1116d1d675a8ae7fca878c2ddf4469207665d"
   },
   "outputs": [],
   "source": [
    "PATH = './'\n",
    "TRAIN = '../input/train/'\n",
    "TEST = '../input/test/'\n",
    "SEGMENTATION = '../input/train_ship_segmentations.csv'\n",
    "exclude_list = ['6384c3e78.jpg','13703f040.jpg', '14715c06d.jpg',  '33e0ff2d5.jpg',\n",
    "                '4d4e09f2a.jpg', '877691df8.jpg', '8b909bb20.jpg', 'a8d99130e.jpg', \n",
    "                'ad55c3143.jpg', 'c8260c541.jpg', 'd6c7f17c7.jpg', 'dc3e7c901.jpg',\n",
    "                'e44dffe88.jpg', 'ef87bad36.jpg', 'f083256d8.jpg'] #corrupted image"
   ]
  },
  {
   "cell_type": "code",
   "execution_count": null,
   "metadata": {
    "_uuid": "f487dd77687f4edb070bd5d2dc9da9a001d62bdb",
    "collapsed": true
   },
   "outputs": [],
   "source": [
    "nw = 4   #number of workers for data loader\n",
    "arch = resnet34 #specify target architecture"
   ]
  },
  {
   "cell_type": "code",
   "execution_count": null,
   "metadata": {
    "_uuid": "56ed39146115a4767a257fec60a3b367284fa0d6",
    "collapsed": true
   },
   "outputs": [],
   "source": [
    "train_names = [f for f in os.listdir(TRAIN)]\n",
    "test_names = [f for f in os.listdir(TEST)]\n",
    "for el in exclude_list:\n",
    "    if(el in train_names): train_names.remove(el)\n",
    "    if(el in test_names): test_names.remove(el)\n",
    "#5% of data in the validation set is sufficient for model evaluation\n",
    "tr_n, val_n = train_test_split(train_names, test_size=0.05, random_state=42)"
   ]
  },
  {
   "cell_type": "code",
   "execution_count": null,
   "metadata": {
    "_uuid": "d1085ab7f398dbcde2c28a4476af73f9d04df85e",
    "collapsed": true
   },
   "outputs": [],
   "source": [
    "class pdFilesDataset(FilesDataset):\n",
    "    def __init__(self, fnames, path, transform):\n",
    "        self.segmentation_df = pd.read_csv(SEGMENTATION).set_index('ImageId')\n",
    "        super().__init__(fnames, transform, path)\n",
    "    \n",
    "    def get_x(self, i):\n",
    "        img = open_image(os.path.join(self.path, self.fnames[i]))\n",
    "        if self.sz == 768: return img \n",
    "        else: return cv2.resize(img, (self.sz, self.sz))\n",
    "    \n",
    "    def get_y(self, i):\n",
    "        if(self.path == TEST): return 0\n",
    "        masks = self.segmentation_df.loc[self.fnames[i]]['EncodedPixels']\n",
    "        if(type(masks) == float): return 0 #NAN - no ship \n",
    "        else: return 1\n",
    "    \n",
    "    def get_c(self): return 2 #number of classes"
   ]
  },
  {
   "cell_type": "code",
   "execution_count": null,
   "metadata": {
    "_uuid": "25fa3283c992696575914a5fdb6ebc433a0b5d1f",
    "collapsed": true
   },
   "outputs": [],
   "source": [
    "def get_data(sz,bs):\n",
    "    #data augmentation\n",
    "    aug_tfms = [RandomRotate(20, tfm_y=TfmType.NO),\n",
    "                RandomDihedral(tfm_y=TfmType.NO),\n",
    "                RandomLighting(0.05, 0.05, tfm_y=TfmType.NO)]\n",
    "    tfms = tfms_from_model(arch, sz, crop_type=CropType.NO, tfm_y=TfmType.NO, \n",
    "                aug_tfms=aug_tfms)\n",
    "    ds = ImageData.get_ds(pdFilesDataset, (tr_n[:-(len(tr_n)%bs)],TRAIN), \n",
    "                (val_n,TRAIN), tfms, test=(test_names,TEST))\n",
    "    md = ImageData(PATH, ds, bs, num_workers=nw, classes=None)\n",
    "    md.is_multi = False\n",
    "    return md"
   ]
  },
  {
   "cell_type": "markdown",
   "metadata": {
    "_uuid": "193381699f5595c916647bfd6c51eaeba699379d"
   },
   "source": [
    "### Model"
   ]
  },
  {
   "cell_type": "code",
   "execution_count": null,
   "metadata": {
    "_uuid": "ddaf708a2b33a383ccd712d1758718c38eeeb922",
    "scrolled": true
   },
   "outputs": [],
   "source": [
    "sz = 256 #image size\n",
    "bs = 64  #batch size\n",
    "\n",
    "md = get_data(sz,bs)\n",
    "learn = ConvLearner.pretrained(arch, md, ps=0.5) #dropout 50%\n",
    "learn.opt_fn = optim.Adam"
   ]
  },
  {
   "cell_type": "markdown",
   "metadata": {
    "_uuid": "d22885312709be8df9b077cc2f3da59c23439b31"
   },
   "source": [
    "I begin with finding the optimal learning rate. The following function runs training with different lr and records the loss. Increase of the loss indicates onset of divergence of training. The optimal lr lies in the vicinity of the minimum of the curve but before the onset of divergence. Based on the following plot, for the current setup the divergence starts at ~0.01, and the recommended learning rate is ~0.002."
   ]
  },
  {
   "cell_type": "code",
   "execution_count": null,
   "metadata": {
    "_uuid": "149f05054b0fb3dadc126ea2789653603fd4b7ea",
    "collapsed": true
   },
   "outputs": [],
   "source": [
    "learn.lr_find()\n",
    "learn.sched.plot()"
   ]
  },
  {
   "cell_type": "markdown",
   "metadata": {
    "_uuid": "196cf509806bf19556d30514e79e97b41b9b04c1"
   },
   "source": [
    "Training the head part of the model with constant learning rate for one epoch. "
   ]
  },
  {
   "cell_type": "code",
   "execution_count": null,
   "metadata": {
    "_uuid": "ef68043848b5d05a0bbc2c53b13dd54767b82f5e",
    "collapsed": true
   },
   "outputs": [],
   "source": [
    "learn.fit(2e-3, 1)"
   ]
  },
  {
   "cell_type": "markdown",
   "metadata": {
    "_uuid": "54961ec96c09672e66ccea9f79c10567dc458df0"
   },
   "source": [
    "Unfreeze the model and train it with differential learning rate. The lr of the head part is still 2e-3, while the middle layers of the model a trained with 5e-4 lr, and the base is trained with even smaller lr, 1e-4, since low level detector do not vary much from one image data set to another."
   ]
  },
  {
   "cell_type": "code",
   "execution_count": null,
   "metadata": {
    "_uuid": "33ffa27057b85dd084df994e34874a8a7c131c46",
    "collapsed": true
   },
   "outputs": [],
   "source": [
    "learn.unfreeze()\n",
    "lr=np.array([1e-4,5e-4,2e-3])"
   ]
  },
  {
   "cell_type": "code",
   "execution_count": null,
   "metadata": {
    "_uuid": "132c754c6732d8224cbbc60eae835c73ebf4b63e",
    "collapsed": true
   },
   "outputs": [],
   "source": [
    "learn.fit(lr, 1, cycle_len=2, use_clr=(20,8))"
   ]
  },
  {
   "cell_type": "markdown",
   "metadata": {
    "_uuid": "6103281a0c1c7db61fae2743ebcdcddaef9023db"
   },
   "source": [
    "The training has been run with learning rate annealing. Periodic lr increase followed by slow decrease drives the system out of steep minima (when lr is high) towards broader ones (which are explored when lr decreases) that enhances the ability of the model to generalize and reduces overfitting. Due to time limit, only once cycle has been run. But ideally several cycles must be run with gradual increase of the image size, etc. 256x256, 384x384, 768x768, to reach better performance of the model."
   ]
  },
  {
   "cell_type": "code",
   "execution_count": null,
   "metadata": {
    "_uuid": "ccfd2cf5e8edeceeec185f988ecd4ebd24d14b80",
    "collapsed": true
   },
   "outputs": [],
   "source": [
    "learn.sched.plot_lr()"
   ]
  },
  {
   "cell_type": "code",
   "execution_count": null,
   "metadata": {
    "_uuid": "56a469df5b92590a3a5fd4d3015c2f838c307813",
    "collapsed": true
   },
   "outputs": [],
   "source": [
    "learn.save('Resnet34_lable_256_1')"
   ]
  },
  {
   "cell_type": "markdown",
   "metadata": {
    "_uuid": "a5af78f6512ab4f514818ef47b3481ef67a65e46"
   },
   "source": [
    "### Prediction"
   ]
  },
  {
   "cell_type": "code",
   "execution_count": null,
   "metadata": {
    "_uuid": "4aece9e7181c6eafeba7fa831fa73efeecbd0b8d"
   },
   "outputs": [],
   "source": [
    "log_preds,y = learn.predict_with_targs(is_test=True)\n",
    "probs = np.exp(log_preds)[:,1]\n",
    "pred = (probs > 0.5).astype(int)"
   ]
  },
  {
   "cell_type": "code",
   "execution_count": null,
   "metadata": {
    "_uuid": "b50fc52ed7f49e83e79d9ff20cbb2cbf75d3c1bb",
    "collapsed": true
   },
   "outputs": [],
   "source": [
    "df = pd.DataFrame({'id':test_names, 'p_ship':probs})\n",
    "df.to_csv('ship_detection.csv', header=True, index=False)"
   ]
  },
  {
   "cell_type": "markdown",
   "metadata": {
    "_uuid": "b1eb1634fee993062bc1386da8ce80b54895c60e"
   },
   "source": [
    "### Training on high resolution images"
   ]
  },
  {
   "cell_type": "markdown",
   "metadata": {
    "_uuid": "872e04eaecc268599dab225b43753503ad40910d"
   },
   "source": [
    "Since each epoch on higher resolution images, like 384x384 or 768x768, takes quite long time, training the model from scratch on these images is quite inefficient. Fortunately, modern convolutional nets support input images of arbitrary resolution. To decrease the training time, one can start training the model on low resolution images first and continue training on higher resolution images for only a few epochs. In addition, a model pretrained on low resolution images first generalizes better since a pixel information is less available and high order features are tended to be used."
   ]
  },
  {
   "cell_type": "code",
   "execution_count": null,
   "metadata": {
    "_uuid": "df8ae8c3b76092761c6eb813a98aca5e22e18c8e",
    "collapsed": true
   },
   "outputs": [],
   "source": [
    "sz = 384 #image size\n",
    "bs = 32  #batch size\n",
    "\n",
    "md = get_data(sz,bs)\n",
    "learn = ConvLearner.pretrained(arch, md, ps=0.5) #dropout 50%\n",
    "learn.opt_fn = optim.Adam\n",
    "learn.unfreeze()\n",
    "lr=np.array([1e-4,5e-4,2e-3])"
   ]
  },
  {
   "cell_type": "code",
   "execution_count": null,
   "metadata": {
    "_uuid": "ee4662b81bbc6d288027850e3ccef5426b72ec66",
    "collapsed": true
   },
   "outputs": [],
   "source": [
    "learn.load('Resnet34_lable_256_1')"
   ]
  },
  {
   "cell_type": "markdown",
   "metadata": {
    "_uuid": "59f3f312fccf272970bafe5d4295094ef6e1af96"
   },
   "source": [
    "Due to the kernal run time limit, the following code does not have enough time to be executed. I hope it is possible to rerun this kernel with disabled cells from \"Model\" part and included data from the previous commit to complete training of higher resolution images. Each epoch on images 383x384 takes about 1.5 hours. Probably, some paths, like \"learn.models_path\", may need to be changed."
   ]
  },
  {
   "cell_type": "code",
   "execution_count": null,
   "metadata": {
    "_uuid": "6fffd57bcafceeed806f5d627af53d10a7367b36",
    "collapsed": true
   },
   "outputs": [],
   "source": [
    "#learn.fit(lr/2, 1, cycle_len=2, use_clr=(20,8)) #lr is smaller since bs is only 32\n",
    "#learn.save('Resnet34_lable_384_1')"
   ]
  }
 ],
 "metadata": {
  "kernelspec": {
   "display_name": "Python 3",
   "language": "python",
   "name": "python3"
  },
  "language_info": {
   "codemirror_mode": {
    "name": "ipython",
    "version": 3
   },
   "file_extension": ".py",
   "mimetype": "text/x-python",
   "name": "python",
   "nbconvert_exporter": "python",
   "pygments_lexer": "ipython3",
   "version": "3.7.7"
  }
 },
 "nbformat": 4,
 "nbformat_minor": 1
}
